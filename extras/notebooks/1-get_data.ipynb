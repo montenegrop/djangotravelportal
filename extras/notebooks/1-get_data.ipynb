{
 "cells": [
  {
   "cell_type": "code",
   "execution_count": 2,
   "metadata": {},
   "outputs": [],
   "source": [
    "import pandas as pd\n",
    "import operator\n",
    "from google_images_download import google_images_download\n",
    "from shutil import copyfile\n",
    "import os"
   ]
  },
  {
   "cell_type": "code",
   "execution_count": 4,
   "metadata": {},
   "outputs": [
    {
     "name": "stdout",
     "output_type": "stream",
     "text": [
      "\n",
      "Item no.: 1 --> Item name = negro ediondo\n",
      "Evaluating...\n",
      "Starting Download...\n",
      "\n",
      "\n",
      "Unfortunately all 3 could not be downloaded because some images were not downloadable. 0 is all we got for this search filter!\n",
      "\n",
      "Errors: 0\n",
      "\n",
      "({'negro ediondo': []}, 0)\n",
      "{'negro ediondo': []}\n",
      "0\n"
     ]
    }
   ],
   "source": [
    "response = google_images_download.googleimagesdownload()   #class instantiation\n",
    "\n",
    "arguments = {\"keywords\":'negro ediondo',\"limit\": 3,\"print_urls\":True, \"output_directory\":'data/', 'chromedriver':'/usr/bin/chromedriver'}\n",
    "paths = response.download(arguments)   #passing the arguments to the function\n",
    "print(paths)\n",
    "for path in paths:\n",
    "    print(path)"
   ]
  },
  {
   "cell_type": "code",
   "execution_count": null,
   "metadata": {},
   "outputs": [],
   "source": []
  },
  {
   "cell_type": "code",
   "execution_count": null,
   "metadata": {},
   "outputs": [],
   "source": []
  },
  {
   "cell_type": "code",
   "execution_count": 78,
   "metadata": {},
   "outputs": [],
   "source": [
    "path_animals = '../../dev/animals_all.csv'\n",
    "path_images = '../../dev/imgs'\n",
    "path_images_google = path_images + '/temp'"
   ]
  },
  {
   "cell_type": "code",
   "execution_count": 79,
   "metadata": {},
   "outputs": [],
   "source": [
    "df = pd.read_csv(path_animals)"
   ]
  },
  {
   "cell_type": "code",
   "execution_count": 80,
   "metadata": {},
   "outputs": [
    {
     "name": "stdout",
     "output_type": "stream",
     "text": [
      "35566\n"
     ]
    },
    {
     "data": {
      "text/html": [
       "<div>\n",
       "<style scoped>\n",
       "    .dataframe tbody tr th:only-of-type {\n",
       "        vertical-align: middle;\n",
       "    }\n",
       "\n",
       "    .dataframe tbody tr th {\n",
       "        vertical-align: top;\n",
       "    }\n",
       "\n",
       "    .dataframe thead th {\n",
       "        text-align: right;\n",
       "    }\n",
       "</style>\n",
       "<table border=\"1\" class=\"dataframe\">\n",
       "  <thead>\n",
       "    <tr style=\"text-align: right;\">\n",
       "      <th></th>\n",
       "      <th>filename</th>\n",
       "      <th>Aardvark</th>\n",
       "      <th>African buffalo</th>\n",
       "      <th>African caracal</th>\n",
       "      <th>Baboon</th>\n",
       "      <th>Bat-eared fox</th>\n",
       "      <th>Rhinoceros</th>\n",
       "      <th>Bushbaby</th>\n",
       "      <th>Cheetah</th>\n",
       "      <th>Chimpanzee</th>\n",
       "      <th>...</th>\n",
       "      <th>Wildebeest</th>\n",
       "      <th>Zebra</th>\n",
       "      <th>Chameleon</th>\n",
       "      <th>Kudu</th>\n",
       "      <th>Ostrich</th>\n",
       "      <th>Eland</th>\n",
       "      <th>Mandrill</th>\n",
       "      <th>Lowland gorilla</th>\n",
       "      <th>Oryx</th>\n",
       "      <th>Black mamba</th>\n",
       "    </tr>\n",
       "  </thead>\n",
       "  <tbody>\n",
       "    <tr>\n",
       "      <th>0</th>\n",
       "      <td>media/images/photos/2019/12/image_27784.jpg</td>\n",
       "      <td>0</td>\n",
       "      <td>0</td>\n",
       "      <td>0</td>\n",
       "      <td>0</td>\n",
       "      <td>0</td>\n",
       "      <td>0</td>\n",
       "      <td>0</td>\n",
       "      <td>0</td>\n",
       "      <td>0</td>\n",
       "      <td>...</td>\n",
       "      <td>0</td>\n",
       "      <td>0</td>\n",
       "      <td>0</td>\n",
       "      <td>0</td>\n",
       "      <td>0</td>\n",
       "      <td>0</td>\n",
       "      <td>0</td>\n",
       "      <td>0</td>\n",
       "      <td>0</td>\n",
       "      <td>0</td>\n",
       "    </tr>\n",
       "    <tr>\n",
       "      <th>1</th>\n",
       "      <td>media/images/photos/2019/12/image_27743.jpg</td>\n",
       "      <td>0</td>\n",
       "      <td>0</td>\n",
       "      <td>0</td>\n",
       "      <td>0</td>\n",
       "      <td>0</td>\n",
       "      <td>0</td>\n",
       "      <td>0</td>\n",
       "      <td>1</td>\n",
       "      <td>0</td>\n",
       "      <td>...</td>\n",
       "      <td>0</td>\n",
       "      <td>0</td>\n",
       "      <td>0</td>\n",
       "      <td>0</td>\n",
       "      <td>0</td>\n",
       "      <td>0</td>\n",
       "      <td>0</td>\n",
       "      <td>0</td>\n",
       "      <td>0</td>\n",
       "      <td>0</td>\n",
       "    </tr>\n",
       "  </tbody>\n",
       "</table>\n",
       "<p>2 rows × 49 columns</p>\n",
       "</div>"
      ],
      "text/plain": [
       "                                      filename  Aardvark  African buffalo  \\\n",
       "0  media/images/photos/2019/12/image_27784.jpg         0                0   \n",
       "1  media/images/photos/2019/12/image_27743.jpg         0                0   \n",
       "\n",
       "   African caracal  Baboon  Bat-eared fox  Rhinoceros  Bushbaby  Cheetah  \\\n",
       "0                0       0              0           0         0        0   \n",
       "1                0       0              0           0         0        1   \n",
       "\n",
       "   Chimpanzee  ...  Wildebeest  Zebra  Chameleon  Kudu  Ostrich  Eland  \\\n",
       "0           0  ...           0      0          0     0        0      0   \n",
       "1           0  ...           0      0          0     0        0      0   \n",
       "\n",
       "   Mandrill  Lowland gorilla  Oryx  Black mamba  \n",
       "0         0                0     0            0  \n",
       "1         0                0     0            0  \n",
       "\n",
       "[2 rows x 49 columns]"
      ]
     },
     "execution_count": 80,
     "metadata": {},
     "output_type": "execute_result"
    }
   ],
   "source": [
    "print(len(df.index))\n",
    "df.head(2)"
   ]
  },
  {
   "cell_type": "code",
   "execution_count": 81,
   "metadata": {},
   "outputs": [
    {
     "data": {
      "text/plain": [
       "['Aardvark', 'African buffalo', 'African caracal']"
      ]
     },
     "execution_count": 81,
     "metadata": {},
     "output_type": "execute_result"
    }
   ],
   "source": [
    "animals = list(df.columns[1:])\n",
    "animals[:3]"
   ]
  },
  {
   "cell_type": "code",
   "execution_count": 82,
   "metadata": {},
   "outputs": [],
   "source": [
    "animals_count = {}\n",
    "for animal in animals:\n",
    "    animals_count[animal] = len(df[df[animal] == 1].index)"
   ]
  },
  {
   "cell_type": "code",
   "execution_count": 83,
   "metadata": {},
   "outputs": [
    {
     "data": {
      "text/plain": [
       "('Lion', 1551)"
      ]
     },
     "execution_count": 83,
     "metadata": {},
     "output_type": "execute_result"
    }
   ],
   "source": [
    "max_count = max(animals_count.items(), key=operator.itemgetter(1))[1]\n",
    "max_animal = max(animals_count.items(), key=operator.itemgetter(1))[0]\n",
    "max_animal, max_count"
   ]
  },
  {
   "cell_type": "code",
   "execution_count": 84,
   "metadata": {},
   "outputs": [],
   "source": [
    "max_count = 200"
   ]
  },
  {
   "cell_type": "code",
   "execution_count": 85,
   "metadata": {},
   "outputs": [],
   "source": [
    "import operator\n",
    "sorted_x = sorted(animals_count.items(), key=operator.itemgetter(1))\n"
   ]
  },
  {
   "cell_type": "code",
   "execution_count": 86,
   "metadata": {},
   "outputs": [
    {
     "data": {
      "text/plain": [
       "[('Impala', 108),\n",
       " ('Baboon', 215),\n",
       " ('Topi', 361),\n",
       " ('Mountain gorilla', 386),\n",
       " ('Black mamba', 394)]"
      ]
     },
     "execution_count": 86,
     "metadata": {},
     "output_type": "execute_result"
    }
   ],
   "source": [
    "sorted_x[:5]"
   ]
  },
  {
   "cell_type": "code",
   "execution_count": 87,
   "metadata": {},
   "outputs": [
    {
     "name": "stdout",
     "output_type": "stream",
     "text": [
      "Impala 92\n",
      "\n",
      "Item no.: 1 --> Item name = Impala animal\n",
      "Evaluating...\n",
      "Starting Download...\n",
      "Image URL: https://upload.wikimedia.org/wikipedia/commons/e/e1/Trotting_impala_ram%2C_crop.jpg\n",
      "Completed Image ====> 1.Trotting_impala_ram%2C_crop.jpg\n",
      "Image URL: https://animapedia.org/wp-content/uploads/2018/06/impala-.jpg\n",
      "Completed Image ====> 2.impala-.jpg\n",
      "Image URL: https://www.animales.website/wp-content/uploads/2019/01/Impala.jpg\n",
      "Completed Image ====> 3.Impala.jpg\n",
      "Image URL: https://misanimales.com/wp-content/uploads/2018/04/impala-caracteristicas.jpg\n",
      "Completed Image ====> 4.impala-caracteristicas.jpg\n",
      "Image URL: https://misanimales.com/wp-content/uploads/2018/04/impala-habitat.jpg\n",
      "Completed Image ====> 5.impala-habitat.jpg\n",
      "Image URL: https://thumbs.dreamstime.com/z/impala-africano-animal-en-el-h%C3%A1bitat-de-la-naturaleza-100059374.jpg\n",
      "Completed Image ====> 6.impala-africano-animal-en-el-h%C3%A1bitat-de-la-naturaleza-100059374.jpg\n",
      "Image URL: https://www.animalesherbivoros.org/wp-content/uploads/2019/08/impala.jpeg\n",
      "Completed Image ====> 7.impala.jpeg\n",
      "Image URL: https://www.dondevive.org/wp-content/uploads/2016/11/donde-vive-impala.jpg\n",
      "Completed Image ====> 8.donde-vive-impala.jpg\n",
      "Image URL: http://wikifaunia.com/images/thumb/e/ed/Impal2.JPG/400px-Impal2.JPG\n",
      "Completed Image ====> 9.400px-Impal2.JPG\n",
      "Image URL: https://dondevive.net/wp-content/uploads/2018/01/donde-vive-impala-1.jpg\n",
      "Completed Image ====> 10.donde-vive-impala-1.jpg\n",
      "Image URL: http://deanimalia.com/images/full/sabana/Impala2.jpg\n",
      "Completed Image ====> 11.Impala2.jpg\n",
      "Image URL: https://i.pinimg.com/originals/41/af/1a/41af1a9d90ac5b911a3f70d5798086a7.jpg\n",
      "Completed Image ====> 12.41af1a9d90ac5b911a3f70d5798086a7.jpg\n",
      "Image URL: https://africafreak.com/wp-content/uploads/2019/10/impala-ram-700x467.jpg?ezimgfmt=ng:webp/ngcb1\n",
      "Completed Image ====> 13.ngcb1.jpg\n",
      "Image URL: https://laverdadnoticias.com/__export/1548190522233/sites/laverdad/img/2019/01/22/impala_3.jpg_423682103.jpg\n",
      "Completed Image ====> 14.impala_3.jpg\n",
      "Image URL: https://cmkt-image-prd.freetls.fastly.net/0.1.0/ps/1838387/910/1367/m2/fpnw/wm1/sw0nhag9lvj3zhoojwzq7poh4yisbj9gsr9cjcbxmxjvdkebzspfjhrxj34owwjv-.jpg?1478081857&s=72fc3b126249a2a0eb1a7e001e4f9226\n",
      "Completed Image ====> 15.sw0nhag9lvj3zhoojwzq7poh4yisbj9gsr9cjcbxmxjvdkebzspfjhrxj34owwjv-.jpg\n",
      "Image URL: https://i.pinimg.com/originals/59/f3/d9/59f3d9df59a9f877a8efa8b9d0f452d8.jpg\n",
      "Completed Image ====> 16.59f3d9df59a9f877a8efa8b9d0f452d8.jpg\n",
      "Image URL: https://cdn.pixabay.com/photo/2017/08/24/09/07/impala-2675888_960_720.jpg\n",
      "Completed Image ====> 17.impala-2675888_960_720.jpg\n",
      "Image URL: https://i0.wp.com/theanimalfacts.com/wp-content/uploads/2015/08/Impala-featured.jpg?resize=300%2C300\n",
      "Completed Image ====> 18.Impala-featured.jpg\n",
      "Image URL: https://laverdadnoticias.com/export/sites/laverdad/img/2019/01/22/9e3d1a32bfd9dae6baa2b3131f039a4c.jpg_675952074.jpg\n",
      "Completed Image ====> 19.9e3d1a32bfd9dae6baa2b3131f039a4c.jpg\n",
      "Image URL: https://st3.depositphotos.com/1422604/15722/i/1600/depositphotos_157226108-stock-photo-impala-in-african-natural-park.jpg\n",
      "Completed Image ====> 20.depositphotos_157226108-stock-photo-impala-in-african-natural-park.jpg\n",
      "Image URL: https://image.winudf.com/v2/image1/Y29tLmFuaW1hbC5pbXBhbGF3YWxscGFwZXJzX3NjcmVlbl9lcy1FU18wXzE1NTgyMTA2NDBfMDEz/screen-0.jpg?fakeurl=1&type=.jpg\n",
      "Completed Image ====> 21.screen-0.jpg\n",
      "Image URL: http://3.bp.blogspot.com/-R0BpogEsT3U/U0SCeiEZrFI/AAAAAAAAAcA/MekVkedIDxc/s1600/Screenshot_1.png\n",
      "Completed Image ====> 22.Screenshot_1.png\n",
      "Image URL: https://image.shutterstock.com/image-photo/impala-aepyceros-melampus-looks-on-260nw-1090985744.jpg\n",
      "Completed Image ====> 23.impala-aepyceros-melampus-looks-on-260nw-1090985744.jpg\n",
      "Image URL: http://deanimalia.com/images/full/sabana/Impala3.jpg\n",
      "Completed Image ====> 24.Impala3.jpg\n",
      "Image URL: https://cdn.pixabay.com/photo/2016/01/21/04/36/animal-1152798_960_720.jpg\n",
      "Completed Image ====> 25.animal-1152798_960_720.jpg\n",
      "Image URL: https://media.istockphoto.com/photos/image-of-impala-male-on-nature-background-wild-animals-picture-id680028604\n",
      "Invalid or missing image format. Skipping...\n",
      "Image URL: http://deanimalia.com/images/full/sabana/Impala1.jpg\n",
      "Completed Image ====> 26.Impala1.jpg\n",
      "Image URL: https://misanimales.com/wp-content/uploads/2018/04/impala-comportamiento.jpg\n",
      "Completed Image ====> 27.impala-comportamiento.jpg\n",
      "Image URL: https://static5.depositphotos.com/1015682/397/i/450/depositphotos_3973688-stock-photo-black-faced-impala-running.jpg\n",
      "Completed Image ====> 28.depositphotos_3973688-stock-photo-black-faced-impala-running.jpg\n",
      "Image URL: https://thumbs.dreamstime.com/z/impala-del-animal-de-la-naturaleza-95701128.jpg\n",
      "Completed Image ====> 29.impala-del-animal-de-la-naturaleza-95701128.jpg\n",
      "Image URL: https://previews.123rf.com/images/chrisvanlennephoto/chrisvanlennephoto1708/chrisvanlennephoto170800045/83384046-animal-del-primer-de-los-animales-masculinos-del-impala-del-d%C3%B3lar-para-observar-reserva-animal-del-parq.jpg\n",
      "Completed Image ====> 30.83384046-animal-del-primer-de-los-animales-masculinos-del-impala-del-d%C3%B3lar-para-observar-reserva-animal-del-parq.jpg\n",
      "Image URL: https://www.bioparcvalencia.es/wp-content/uploads/2017/06/interiores-animal-bioparc-valencia-impala-02.jpg\n",
      "Completed Image ====> 31.interiores-animal-bioparc-valencia-impala-02.jpg\n",
      "Image URL: https://img2.freepng.es/20180508/boe/kisspng-deer-impala-animal-5af2498a0e17b9.4374218715258279780577.jpg\n",
      "URLError on an image...trying next one... Error: <urlopen error [Errno 104] Connection reset by peer>\n",
      "Image URL: https://i.pinimg.com/474x/cf/67/2c/cf672c631cf0880016f37dcd9fb0b3fe--impalas-wildlife-art.jpg\n",
      "Completed Image ====> 32.cf672c631cf0880016f37dcd9fb0b3fe--impalas-wildlife-art.jpg\n",
      "Image URL: http://www.storytrender.com/wp-content/uploads/2019/03/20_CATERS_MELTED_IMPALA_01.jpg\n",
      "Completed Image ====> 33.20_CATERS_MELTED_IMPALA_01.jpg\n",
      "Image URL: http://animalnews.es/wp-content/uploads/2017/10/animal-news-guepardo-cazando-impala-compressor.jpg\n",
      "Completed Image ====> 34.animal-news-guepardo-cazando-impala-compressor.jpg\n",
      "Image URL: http://elbibliote.com/resources/animales/fichas/iStock_91070499_LARGE.jpg\n",
      "Completed Image ====> 35.iStock_91070499_LARGE.jpg\n",
      "Image URL: https://africafreak.com/wp-content/uploads/2019/10/3-impala-jumping-700x467.jpg?ezimgfmt=ng:webp/ngcb1\n",
      "Completed Image ====> 36.ngcb1.jpg\n",
      "Image URL: https://dondevive.net/wp-content/uploads/2018/01/donde-vive-impala-2.jpg\n",
      "Completed Image ====> 37.donde-vive-impala-2.jpg\n",
      "Image URL: https://www.bioparcvalencia.es/wp-content/uploads/2017/06/interiores-animal-bioparc-valencia-impala-01.jpg\n",
      "Completed Image ====> 38.interiores-animal-bioparc-valencia-impala-01.jpg\n",
      "Image URL: http://wikifaunia.com/images/thumb/0/05/Impala.jpg/330px-Impala.jpg\n",
      "Completed Image ====> 39.330px-Impala.jpg\n",
      "Image URL: https://st3.depositphotos.com/1765681/17763/i/1600/depositphotos_177635416-stock-photo-impala-aepyceros-melampus-wildlife-animal.jpg\n",
      "Completed Image ====> 40.depositphotos_177635416-stock-photo-impala-aepyceros-melampus-wildlife-animal.jpg\n",
      "Image URL: https://get.pxhere.com/photo/animal-wildlife-mammal-fauna-antelope-gazelle-vertebrate-impala-white-tailed-deer-springbok-pronghorn-167210.jpg\n",
      "Completed Image ====> 41.animal-wildlife-mammal-fauna-antelope-gazelle-vertebrate-impala-white-tailed-deer-springbok-pronghorn-167210.jpg\n",
      "Image URL: https://www.animalesherbivoros.org/wp-content/uploads/2019/08/impala-2.jpeg\n",
      "Completed Image ====> 42.impala-2.jpeg\n",
      "Image URL: https://cdn.lavoz.com.ar/sites/default/files/styles/width_1072/public/articulo_patrocinado/Impala-1.gif\n",
      "Completed Image ====> 43.Impala-1.gif\n",
      "Image URL: https://media.istockphoto.com/photos/impala-picture-id927491462\n",
      "Invalid or missing image format. Skipping...\n",
      "Image URL: https://footage.framepool.com/shotimg/qf/924892769-impala-saltar-correr-wildnis.jpg\n",
      "Completed Image ====> 44.924892769-impala-saltar-correr-wildnis.jpg\n",
      "Image URL: https://comps.canstockphoto.es/gacela-cuernos-cabezas-vendimia-clip-art-vectorial_csp47158119.jpg\n",
      "Completed Image ====> 45.gacela-cuernos-cabezas-vendimia-clip-art-vectorial_csp47158119.jpg\n",
      "Image URL: https://thumbs.dreamstime.com/z/impala-melampus-del-aepyceros-129032949.jpg\n",
      "Completed Image ====> 46.impala-melampus-del-aepyceros-129032949.jpg\n",
      "Image URL: https://image.shutterstock.com/image-photo/impala-african-savannah-260nw-1558624160.jpg\n",
      "Completed Image ====> 47.impala-african-savannah-260nw-1558624160.jpg\n",
      "Image URL: https://cdn.pixabay.com/photo/2015/10/31/03/27/impala-1014993_960_720.jpg\n",
      "Completed Image ====> 48.impala-1014993_960_720.jpg\n",
      "Image URL: https://africafreak.com/wp-content/uploads/2019/10/female-Thomsons-gazelle-with-young-700x525.jpg?ezimgfmt=ng:webp/ngcb1\n",
      "Completed Image ====> 49.ngcb1.jpg\n",
      "Image URL: https://upload.wikimedia.org/wikipedia/commons/a/ae/Impala.JPG\n",
      "Completed Image ====> 50.Impala.JPG\n",
      "Image URL: https://s2.best-wallpaper.net/wallpaper/1920x1200/1704/South-Africa-impala-animal-photography_1920x1200.jpg\n",
      "URLError on an image...trying next one... Error: <urlopen error [SSL: CERTIFICATE_VERIFY_FAILED] certificate verify failed (_ssl.c:852)>\n",
      "Image URL: https://onekindplanet.org/wp-content/uploads/2016/09/a_zImpala-wpcf_520x294.jpg\n",
      "Completed Image ====> 51.a_zImpala-wpcf_520x294.jpg\n",
      "Image URL: https://images2.minutemediacdn.com/image/upload/c_crop,h_1684,w_3000,x_0,y_211/f_auto,q_auto,w_1100/v1554917748/shape/mentalfloss/552823-istock-542829462.jpg\n",
      "Completed Image ====> 52.552823-istock-542829462.jpg\n",
      "Image URL: https://media.istockphoto.com/photos/impala-picture-id921699654\n",
      "Invalid or missing image format. Skipping...\n",
      "Image URL: https://thumbs.dreamstime.com/z/impala-africano-4275291.jpg\n",
      "Completed Image ====> 53.impala-africano-4275291.jpg\n",
      "Image URL: https://st3.depositphotos.com/1765681/15405/i/1600/depositphotos_154057410-stock-photo-wild-impalas-with-babies.jpg\n",
      "Completed Image ====> 54.depositphotos_154057410-stock-photo-wild-impalas-with-babies.jpg\n",
      "Image URL: https://i.ytimg.com/vi/TBzYeOzvTvo/hqdefault.jpg\n",
      "Completed Image ====> 55.hqdefault.jpg\n",
      "Image URL: https://www.animalessalvajes.net/wp-content/uploads/2018/11/Impala-de-frente-oscura.jpg\n",
      "URLError on an image...trying next one... Error: <urlopen error [Errno 104] Connection reset by peer>\n",
      "Image URL: https://ep01.epimg.net/elpais/imagenes/2018/09/03/mundo_animal/1535990424_646941_1535992178_noticia_normal.jpg\n",
      "Completed Image ====> 56.1535990424_646941_1535992178_noticia_normal.jpg\n",
      "Image URL: https://get.pxhere.com/photo/animal-wildlife-deer-horn-mammal-fauna-antelope-vertebrate-impala-bongo-roe-deer-scheu-fallow-deer-safari-giraffidae-white-tailed-deer-cattle-like-mammal-1222698.jpg\n",
      "Completed Image ====> 57.animal-wildlife-deer-horn-mammal-fauna-antelope-vertebrate-impala-bongo-roe-deer-scheu-fallow-deer-safari-giraffidae-white-tailed-deer-cattle-like-mammal-1222698.jpg\n",
      "Image URL: https://images-na.ssl-images-amazon.com/images/I/41XeHWbaEPL._SX425_.jpg\n",
      "Completed Image ====> 58.41XeHWbaEPL._SX425_.jpg\n",
      "Image URL: https://p0.piqsels.com/preview/591/62/341/animal-antelope-antlers-daylight.jpg\n",
      "URLError on an image...trying next one... Error: <urlopen error [Errno 104] Connection reset by peer>\n",
      "Image URL: https://image.shutterstock.com/image-photo/horizontal-surface-level-cropped-photo-260nw-1141197866.jpg\n",
      "Completed Image ====> 59.horizontal-surface-level-cropped-photo-260nw-1141197866.jpg\n",
      "Image URL: https://i.etsystatic.com/10188664/r/il/6562aa/1920256712/il_570xN.1920256712_ae90.jpg\n",
      "Completed Image ====> 60.il_570xN.1920256712_ae90.jpg\n",
      "Image URL: https://images.unsplash.com/photo-1559494487-a5bbc635ed2b?ixlib=rb-1.2.1&ixid=eyJhcHBfaWQiOjEyMDd9&w=1000&q=80\n",
      "Invalid or missing image format. Skipping...\n",
      "Image URL: http://www.storytrender.com/wp-content/uploads/2019/03/21_CATERS_MELTED_IMPALA_02-1024x683.jpg\n",
      "Completed Image ====> 61.21_CATERS_MELTED_IMPALA_02-1024x683.jpg\n",
      "Image URL: https://animapedia.org/wp-content/uploads/2018/06/impala.jpg\n",
      "Completed Image ====> 62.impala.jpg\n",
      "Image URL: https://c8.alamy.com/compes/x0p2dj/el-impala-aepyceros-melampus-dos-antilopes-con-animal-joven-en-una-pradera-kenya-reserva-nacional-de-samburu-x0p2dj.jpg\n",
      "Completed Image ====> 63.el-impala-aepyceros-melampus-dos-antilopes-con-animal-joven-en-una-pradera-kenya-reserva-nacional-de-samburu-x0p2dj.jpg\n",
      "Image URL: https://cdn.pixabay.com/photo/2019/08/28/13/41/impala-4436824_960_720.jpg\n",
      "Completed Image ====> 64.impala-4436824_960_720.jpg\n",
      "Image URL: https://thumbs.dreamstime.com/z/d%C3%B3lar-animal-del-impala-del-rasgu%C3%B1o-de-la-cara-de-la-nariz-26252693.jpg\n",
      "Completed Image ====> 65.d%C3%B3lar-animal-del-impala-del-rasgu%C3%B1o-de-la-cara-de-la-nariz-26252693.jpg\n",
      "Image URL: https://media.istockphoto.com/photos/impala-fighting-picture-id526898019\n",
      "Invalid or missing image format. Skipping...\n",
      "Image URL: https://c.wallhere.com/photos/43/96/leapingfawn_fawn_whitetaileddeer_whitetaildeer_whitetaileddeerfawn_deer_shenandoahnationalpark_shenandoah-874167.jpg!d\n",
      "URLError on an image...trying next one... Error: <urlopen error [Errno 104] Connection reset by peer>\n",
      "Image URL: https://st3.depositphotos.com/1765681/17624/i/1600/depositphotos_176245456-stock-photo-impala-aepyceros-melampus-wildlife-animal.jpg\n",
      "Completed Image ====> 66.depositphotos_176245456-stock-photo-impala-aepyceros-melampus-wildlife-animal.jpg\n",
      "Image URL: https://get.pxhere.com/photo/nature-animal-wildlife-wild-zoo-mammal-fauna-antelope-gazelle-vertebrate-impala-african-kudu-safari-south-africa-white-tailed-deer-kruger-springbok-pronghorn-1197590.jpg\n",
      "Completed Image ====> 67.nature-animal-wildlife-wild-zoo-mammal-fauna-antelope-gazelle-vertebrate-impala-african-kudu-safari-south-africa-white-tailed-deer-kruger-springbok-pronghorn-1197590.jpg\n",
      "Image URL: https://upload.wikimedia.org/wikipedia/commons/thumb/8/8f/Impala_AdeFrias.jpg/440px-Impala_AdeFrias.jpg\n",
      "Completed Image ====> 68.440px-Impala_AdeFrias.jpg\n",
      "Image URL: https://s2.best-wallpaper.net/wallpaper/iphone/1704/South-Africa-impala-animal-photography_iphone_640x1136.jpg\n",
      "URLError on an image...trying next one... Error: <urlopen error [SSL: CERTIFICATE_VERIFY_FAILED] certificate verify failed (_ssl.c:852)>\n",
      "Image URL: https://i.ytimg.com/vi/TBzYeOzvTvo/maxresdefault.jpg\n",
      "Completed Image ====> 69.maxresdefault.jpg\n",
      "Image URL: https://c8.alamy.com/compes/h40jr0/la-estepa-impala-aepyceros-melampus-madre-animal-joven-animal-naturaleza-paisajes-de-hierba-zoologia-mundo-animal-naturaleza-vida-silvestre-animales-salvajes-animales-mamiferos-ungulados-ungulados-cornuda-antilopes-impalas-antilopes-antilopes-tacon-negro-h40jr0.jpg\n",
      "Completed Image ====> 70.la-estepa-impala-aepyceros-melampus-madre-animal-joven-animal-naturaleza-paisajes-de-hierba-zoologia-mundo-animal-naturaleza-vida-silvestre-animales-salvajes-animales-mamiferos-ungulados-ungulados-cornuda-antilopes-impalas-antilopes-antilopes-tacon-negro-h40jr0.jpg\n",
      "Image URL: https://www.quecome.com/wp-content/uploads/2019/09/Impala-600x432.jpg\n",
      "Completed Image ====> 71.Impala-600x432.jpg\n",
      "Image URL: https://cdn.pixabay.com/photo/2017/08/15/11/18/africa-2643573_960_720.jpg\n",
      "Completed Image ====> 72.africa-2643573_960_720.jpg\n",
      "Image URL: https://theanimalfacts.com/wp-content/uploads/2015/08/Impala-1.jpg\n",
      "Completed Image ====> 73.Impala-1.jpg\n",
      "Image URL: https://thumbs.dreamstime.com/z/impala-com%C3%BAn-fondo-africano-de-la-fauna-animales-del-beb%C3%A9-y-sus-mam%C3%A1es-58697221.jpg\n",
      "Completed Image ====> 74.impala-com%C3%BAn-fondo-africano-de-la-fauna-animales-del-beb%C3%A9-y-sus-mam%C3%A1es-58697221.jpg\n",
      "Image URL: https://media.istockphoto.com/photos/impala-picture-id927491552\n",
      "Invalid or missing image format. Skipping...\n",
      "Image URL: https://static.nationalgeographic.es/files/styles/image_1190/public/impala_5814_600x450.jpg\n",
      "Completed Image ====> 75.impala_5814_600x450.jpg\n",
      "Image URL: http://animalstown.com/animals/i/impala/wallpapers/impala-wallpaper-3.jpg\n",
      "Completed Image ====> 76.impala-wallpaper-3.jpg\n",
      "Image URL: https://image.shutterstock.com/image-photo/african-impala-bush-260nw-747692287.jpg\n",
      "Completed Image ====> 77.african-impala-bush-260nw-747692287.jpg\n",
      "Image URL: http://animalnews.es/wp-content/uploads/2016/01/Animal-News-Leopardo-cria-de-impala-compressor.jpg\n",
      "Completed Image ====> 78.Animal-News-Leopardo-cria-de-impala-compressor.jpg\n",
      "Image URL: https://s1.dmcdn.net/v/PrnsU1TBOqEKuWzTg/x720\n",
      "Invalid or missing image format. Skipping...\n",
      "Image URL: https://marketplace.canva.com/MADesSi8o68/1/screen_2x/canva-animal-mammal-antelope-impala-wildlife-nature-africa-safari-horns-three-males-3-MADesSi8o68.jpg\n",
      "Completed Image ====> 79.canva-animal-mammal-antelope-impala-wildlife-nature-africa-safari-horns-three-males-3-MADesSi8o68.jpg\n",
      "Image URL: https://upload.wikimedia.org/wikipedia/commons/f/fc/Elegant_Impala_%2830528424017%29.jpg\n",
      "Completed Image ====> 80.Elegant_Impala_%2830528424017%29.jpg\n",
      "Image URL: http://www.animalesenvideo.com/wp-content/uploads/2016/11/animales-en-video-impala.jpg\n",
      "Completed Image ====> 81.animales-en-video-impala.jpg\n",
      "Image URL: https://mh-1-stockagency.panthermedia.net/media/previews/0019000000/19010000/19010019_high.jpg\n",
      "URLError on an image...trying next one... Error: <urlopen error [SSL: CERTIFICATE_VERIFY_FAILED] certificate verify failed (_ssl.c:852)>\n",
      "Image URL: https://st4.depositphotos.com/2482545/22150/i/1600/depositphotos_221509006-stock-photo-impala-close-kruger-park-south.jpg\n",
      "Completed Image ====> 82.depositphotos_221509006-stock-photo-impala-close-kruger-park-south.jpg\n",
      "Image URL: https://www.nationalgeographic.com/content/dam/animals/thumbs/rights-exempt/mammals/i/impala_thumb.JPG\n",
      "Completed Image ====> 83.impala_thumb.JPG\n",
      "Image URL: https://thumbs.dreamstime.com/z/animal-hermoso-de-kenia-el-impala-85483241.jpg\n"
     ]
    },
    {
     "ename": "KeyboardInterrupt",
     "evalue": "",
     "output_type": "error",
     "traceback": [
      "\u001b[0;31m---------------------------------------------------------------------------\u001b[0m",
      "\u001b[0;31mKeyboardInterrupt\u001b[0m                         Traceback (most recent call last)",
      "\u001b[0;32m<ipython-input-87-1ec5fe45cbc1>\u001b[0m in \u001b[0;36m<module>\u001b[0;34m()\u001b[0m\n\u001b[1;32m     10\u001b[0m     \u001b[0manimal_search\u001b[0m \u001b[0;34m=\u001b[0m \u001b[0manimal\u001b[0m \u001b[0;34m+\u001b[0m \u001b[0;34m' animal'\u001b[0m\u001b[0;34m\u001b[0m\u001b[0;34m\u001b[0m\u001b[0m\n\u001b[1;32m     11\u001b[0m     \u001b[0marguments\u001b[0m \u001b[0;34m=\u001b[0m \u001b[0;34m{\u001b[0m\u001b[0;34m\"keywords\"\u001b[0m\u001b[0;34m:\u001b[0m\u001b[0manimal_search\u001b[0m\u001b[0;34m,\u001b[0m\u001b[0;34m\"limit\"\u001b[0m\u001b[0;34m:\u001b[0m \u001b[0mdownload_count\u001b[0m\u001b[0;34m,\u001b[0m\u001b[0;34m\"print_urls\"\u001b[0m\u001b[0;34m:\u001b[0m\u001b[0;32mTrue\u001b[0m\u001b[0;34m,\u001b[0m \u001b[0;34m\"output_directory\"\u001b[0m\u001b[0;34m:\u001b[0m\u001b[0mpath_images_google\u001b[0m\u001b[0;34m,\u001b[0m \u001b[0;34m'chromedriver'\u001b[0m\u001b[0;34m:\u001b[0m\u001b[0;34m'/usr/bin/chromedriver'\u001b[0m\u001b[0;34m}\u001b[0m\u001b[0;34m\u001b[0m\u001b[0;34m\u001b[0m\u001b[0m\n\u001b[0;32m---> 12\u001b[0;31m     \u001b[0mpaths\u001b[0m \u001b[0;34m=\u001b[0m \u001b[0mresponse\u001b[0m\u001b[0;34m.\u001b[0m\u001b[0mdownload\u001b[0m\u001b[0;34m(\u001b[0m\u001b[0marguments\u001b[0m\u001b[0;34m)\u001b[0m   \u001b[0;31m#passing the arguments to the function\u001b[0m\u001b[0;34m\u001b[0m\u001b[0;34m\u001b[0m\u001b[0m\n\u001b[0m\u001b[1;32m     13\u001b[0m     \u001b[0mprint\u001b[0m\u001b[0;34m(\u001b[0m\u001b[0mpaths\u001b[0m\u001b[0;34m)\u001b[0m\u001b[0;34m\u001b[0m\u001b[0;34m\u001b[0m\u001b[0m\n\u001b[1;32m     14\u001b[0m     \u001b[0;32mfor\u001b[0m \u001b[0mpath\u001b[0m \u001b[0;32min\u001b[0m \u001b[0mpaths\u001b[0m\u001b[0;34m[\u001b[0m\u001b[0;36m0\u001b[0m\u001b[0;34m]\u001b[0m\u001b[0;34m[\u001b[0m\u001b[0manimal\u001b[0m\u001b[0;34m]\u001b[0m\u001b[0;34m:\u001b[0m\u001b[0;34m\u001b[0m\u001b[0;34m\u001b[0m\u001b[0m\n",
      "\u001b[0;32m~/Desktop/juan/bio/venv/lib/python3.6/site-packages/google_images_download/google_images_download.py\u001b[0m in \u001b[0;36mdownload\u001b[0;34m(self, arguments)\u001b[0m\n\u001b[1;32m    823\u001b[0m             \u001b[0;31m# if the calling file contains params directly\u001b[0m\u001b[0;34m\u001b[0m\u001b[0;34m\u001b[0m\u001b[0;34m\u001b[0m\u001b[0m\n\u001b[1;32m    824\u001b[0m             \u001b[0;32melse\u001b[0m\u001b[0;34m:\u001b[0m\u001b[0;34m\u001b[0m\u001b[0;34m\u001b[0m\u001b[0m\n\u001b[0;32m--> 825\u001b[0;31m                 \u001b[0mpaths\u001b[0m\u001b[0;34m,\u001b[0m \u001b[0merrors\u001b[0m \u001b[0;34m=\u001b[0m \u001b[0mself\u001b[0m\u001b[0;34m.\u001b[0m\u001b[0mdownload_executor\u001b[0m\u001b[0;34m(\u001b[0m\u001b[0marguments\u001b[0m\u001b[0;34m)\u001b[0m\u001b[0;34m\u001b[0m\u001b[0;34m\u001b[0m\u001b[0m\n\u001b[0m\u001b[1;32m    826\u001b[0m                 \u001b[0;32mfor\u001b[0m \u001b[0mi\u001b[0m \u001b[0;32min\u001b[0m \u001b[0mpaths\u001b[0m\u001b[0;34m:\u001b[0m\u001b[0;34m\u001b[0m\u001b[0;34m\u001b[0m\u001b[0m\n\u001b[1;32m    827\u001b[0m                     \u001b[0mpaths_agg\u001b[0m\u001b[0;34m[\u001b[0m\u001b[0mi\u001b[0m\u001b[0;34m]\u001b[0m \u001b[0;34m=\u001b[0m \u001b[0mpaths\u001b[0m\u001b[0;34m[\u001b[0m\u001b[0mi\u001b[0m\u001b[0;34m]\u001b[0m\u001b[0;34m\u001b[0m\u001b[0;34m\u001b[0m\u001b[0m\n",
      "\u001b[0;32m~/Desktop/juan/bio/venv/lib/python3.6/site-packages/google_images_download/google_images_download.py\u001b[0m in \u001b[0;36mdownload_executor\u001b[0;34m(self, arguments)\u001b[0m\n\u001b[1;32m    950\u001b[0m                         \u001b[0;32melse\u001b[0m\u001b[0;34m:\u001b[0m\u001b[0;34m\u001b[0m\u001b[0;34m\u001b[0m\u001b[0m\n\u001b[1;32m    951\u001b[0m                             \u001b[0mprint\u001b[0m\u001b[0;34m(\u001b[0m\u001b[0;34m\"Starting Download...\"\u001b[0m\u001b[0;34m)\u001b[0m\u001b[0;34m\u001b[0m\u001b[0;34m\u001b[0m\u001b[0m\n\u001b[0;32m--> 952\u001b[0;31m                     \u001b[0mitems\u001b[0m\u001b[0;34m,\u001b[0m\u001b[0merrorCount\u001b[0m\u001b[0;34m,\u001b[0m\u001b[0mabs_path\u001b[0m \u001b[0;34m=\u001b[0m \u001b[0mself\u001b[0m\u001b[0;34m.\u001b[0m\u001b[0m_get_all_items\u001b[0m\u001b[0;34m(\u001b[0m\u001b[0mraw_html\u001b[0m\u001b[0;34m,\u001b[0m\u001b[0mmain_directory\u001b[0m\u001b[0;34m,\u001b[0m\u001b[0mdir_name\u001b[0m\u001b[0;34m,\u001b[0m\u001b[0mlimit\u001b[0m\u001b[0;34m,\u001b[0m\u001b[0marguments\u001b[0m\u001b[0;34m)\u001b[0m    \u001b[0;31m#get all image items and download images\u001b[0m\u001b[0;34m\u001b[0m\u001b[0;34m\u001b[0m\u001b[0m\n\u001b[0m\u001b[1;32m    953\u001b[0m                     \u001b[0mpaths\u001b[0m\u001b[0;34m[\u001b[0m\u001b[0mpky\u001b[0m \u001b[0;34m+\u001b[0m \u001b[0msearch_keyword\u001b[0m\u001b[0;34m[\u001b[0m\u001b[0mi\u001b[0m\u001b[0;34m]\u001b[0m \u001b[0;34m+\u001b[0m \u001b[0msky\u001b[0m\u001b[0;34m]\u001b[0m \u001b[0;34m=\u001b[0m \u001b[0mabs_path\u001b[0m\u001b[0;34m\u001b[0m\u001b[0;34m\u001b[0m\u001b[0m\n\u001b[1;32m    954\u001b[0m \u001b[0;34m\u001b[0m\u001b[0m\n",
      "\u001b[0;32m~/Desktop/juan/bio/venv/lib/python3.6/site-packages/google_images_download/google_images_download.py\u001b[0m in \u001b[0;36m_get_all_items\u001b[0;34m(self, page, main_directory, dir_name, limit, arguments)\u001b[0m\n\u001b[1;32m    764\u001b[0m \u001b[0;34m\u001b[0m\u001b[0m\n\u001b[1;32m    765\u001b[0m                 \u001b[0;31m#download the images\u001b[0m\u001b[0;34m\u001b[0m\u001b[0;34m\u001b[0m\u001b[0;34m\u001b[0m\u001b[0m\n\u001b[0;32m--> 766\u001b[0;31m                 \u001b[0mdownload_status\u001b[0m\u001b[0;34m,\u001b[0m\u001b[0mdownload_message\u001b[0m\u001b[0;34m,\u001b[0m\u001b[0mreturn_image_name\u001b[0m\u001b[0;34m,\u001b[0m\u001b[0mabsolute_path\u001b[0m \u001b[0;34m=\u001b[0m \u001b[0mself\u001b[0m\u001b[0;34m.\u001b[0m\u001b[0mdownload_image\u001b[0m\u001b[0;34m(\u001b[0m\u001b[0mobject\u001b[0m\u001b[0;34m[\u001b[0m\u001b[0;34m'image_link'\u001b[0m\u001b[0;34m]\u001b[0m\u001b[0;34m,\u001b[0m\u001b[0mobject\u001b[0m\u001b[0;34m[\u001b[0m\u001b[0;34m'image_format'\u001b[0m\u001b[0;34m]\u001b[0m\u001b[0;34m,\u001b[0m\u001b[0mmain_directory\u001b[0m\u001b[0;34m,\u001b[0m\u001b[0mdir_name\u001b[0m\u001b[0;34m,\u001b[0m\u001b[0mcount\u001b[0m\u001b[0;34m,\u001b[0m\u001b[0marguments\u001b[0m\u001b[0;34m[\u001b[0m\u001b[0;34m'print_urls'\u001b[0m\u001b[0;34m]\u001b[0m\u001b[0;34m,\u001b[0m\u001b[0marguments\u001b[0m\u001b[0;34m[\u001b[0m\u001b[0;34m'socket_timeout'\u001b[0m\u001b[0;34m]\u001b[0m\u001b[0;34m,\u001b[0m\u001b[0marguments\u001b[0m\u001b[0;34m[\u001b[0m\u001b[0;34m'prefix'\u001b[0m\u001b[0;34m]\u001b[0m\u001b[0;34m,\u001b[0m\u001b[0marguments\u001b[0m\u001b[0;34m[\u001b[0m\u001b[0;34m'print_size'\u001b[0m\u001b[0;34m]\u001b[0m\u001b[0;34m,\u001b[0m\u001b[0marguments\u001b[0m\u001b[0;34m[\u001b[0m\u001b[0;34m'no_numbering'\u001b[0m\u001b[0;34m]\u001b[0m\u001b[0;34m,\u001b[0m\u001b[0marguments\u001b[0m\u001b[0;34m[\u001b[0m\u001b[0;34m'no_download'\u001b[0m\u001b[0;34m]\u001b[0m\u001b[0;34m,\u001b[0m\u001b[0marguments\u001b[0m\u001b[0;34m[\u001b[0m\u001b[0;34m'save_source'\u001b[0m\u001b[0;34m]\u001b[0m\u001b[0;34m,\u001b[0m\u001b[0mobject\u001b[0m\u001b[0;34m[\u001b[0m\u001b[0;34m'image_source'\u001b[0m\u001b[0;34m]\u001b[0m\u001b[0;34m,\u001b[0m\u001b[0marguments\u001b[0m\u001b[0;34m[\u001b[0m\u001b[0;34m\"silent_mode\"\u001b[0m\u001b[0;34m]\u001b[0m\u001b[0;34m,\u001b[0m\u001b[0marguments\u001b[0m\u001b[0;34m[\u001b[0m\u001b[0;34m\"thumbnail_only\"\u001b[0m\u001b[0;34m]\u001b[0m\u001b[0;34m,\u001b[0m\u001b[0marguments\u001b[0m\u001b[0;34m[\u001b[0m\u001b[0;34m'format'\u001b[0m\u001b[0;34m]\u001b[0m\u001b[0;34m,\u001b[0m\u001b[0marguments\u001b[0m\u001b[0;34m[\u001b[0m\u001b[0;34m'ignore_urls'\u001b[0m\u001b[0;34m]\u001b[0m\u001b[0;34m)\u001b[0m\u001b[0;34m\u001b[0m\u001b[0;34m\u001b[0m\u001b[0m\n\u001b[0m\u001b[1;32m    767\u001b[0m                 \u001b[0;32mif\u001b[0m \u001b[0;32mnot\u001b[0m \u001b[0marguments\u001b[0m\u001b[0;34m[\u001b[0m\u001b[0;34m\"silent_mode\"\u001b[0m\u001b[0;34m]\u001b[0m\u001b[0;34m:\u001b[0m\u001b[0;34m\u001b[0m\u001b[0;34m\u001b[0m\u001b[0m\n\u001b[1;32m    768\u001b[0m                     \u001b[0mprint\u001b[0m\u001b[0;34m(\u001b[0m\u001b[0mdownload_message\u001b[0m\u001b[0;34m)\u001b[0m\u001b[0;34m\u001b[0m\u001b[0;34m\u001b[0m\u001b[0m\n",
      "\u001b[0;32m~/Desktop/juan/bio/venv/lib/python3.6/site-packages/google_images_download/google_images_download.py\u001b[0m in \u001b[0;36mdownload_image\u001b[0;34m(self, image_url, image_format, main_directory, dir_name, count, print_urls, socket_timeout, prefix, print_size, no_numbering, no_download, save_source, img_src, silent_mode, thumbnail_only, format, ignore_urls)\u001b[0m\n\u001b[1;32m    598\u001b[0m \u001b[0;34m\u001b[0m\u001b[0m\n\u001b[1;32m    599\u001b[0m                 \u001b[0mresponse\u001b[0m \u001b[0;34m=\u001b[0m \u001b[0murlopen\u001b[0m\u001b[0;34m(\u001b[0m\u001b[0mreq\u001b[0m\u001b[0;34m,\u001b[0m \u001b[0;32mNone\u001b[0m\u001b[0;34m,\u001b[0m \u001b[0mtimeout\u001b[0m\u001b[0;34m)\u001b[0m\u001b[0;34m\u001b[0m\u001b[0;34m\u001b[0m\u001b[0m\n\u001b[0;32m--> 600\u001b[0;31m                 \u001b[0mdata\u001b[0m \u001b[0;34m=\u001b[0m \u001b[0mresponse\u001b[0m\u001b[0;34m.\u001b[0m\u001b[0mread\u001b[0m\u001b[0;34m(\u001b[0m\u001b[0;34m)\u001b[0m\u001b[0;34m\u001b[0m\u001b[0;34m\u001b[0m\u001b[0m\n\u001b[0m\u001b[1;32m    601\u001b[0m                 \u001b[0mresponse\u001b[0m\u001b[0;34m.\u001b[0m\u001b[0mclose\u001b[0m\u001b[0;34m(\u001b[0m\u001b[0;34m)\u001b[0m\u001b[0;34m\u001b[0m\u001b[0;34m\u001b[0m\u001b[0m\n\u001b[1;32m    602\u001b[0m \u001b[0;34m\u001b[0m\u001b[0m\n",
      "\u001b[0;32m/usr/lib/python3.6/http/client.py\u001b[0m in \u001b[0;36mread\u001b[0;34m(self, amt)\u001b[0m\n\u001b[1;32m    470\u001b[0m             \u001b[0;32melse\u001b[0m\u001b[0;34m:\u001b[0m\u001b[0;34m\u001b[0m\u001b[0;34m\u001b[0m\u001b[0m\n\u001b[1;32m    471\u001b[0m                 \u001b[0;32mtry\u001b[0m\u001b[0;34m:\u001b[0m\u001b[0;34m\u001b[0m\u001b[0;34m\u001b[0m\u001b[0m\n\u001b[0;32m--> 472\u001b[0;31m                     \u001b[0ms\u001b[0m \u001b[0;34m=\u001b[0m \u001b[0mself\u001b[0m\u001b[0;34m.\u001b[0m\u001b[0m_safe_read\u001b[0m\u001b[0;34m(\u001b[0m\u001b[0mself\u001b[0m\u001b[0;34m.\u001b[0m\u001b[0mlength\u001b[0m\u001b[0;34m)\u001b[0m\u001b[0;34m\u001b[0m\u001b[0;34m\u001b[0m\u001b[0m\n\u001b[0m\u001b[1;32m    473\u001b[0m                 \u001b[0;32mexcept\u001b[0m \u001b[0mIncompleteRead\u001b[0m\u001b[0;34m:\u001b[0m\u001b[0;34m\u001b[0m\u001b[0;34m\u001b[0m\u001b[0m\n\u001b[1;32m    474\u001b[0m                     \u001b[0mself\u001b[0m\u001b[0;34m.\u001b[0m\u001b[0m_close_conn\u001b[0m\u001b[0;34m(\u001b[0m\u001b[0;34m)\u001b[0m\u001b[0;34m\u001b[0m\u001b[0;34m\u001b[0m\u001b[0m\n",
      "\u001b[0;32m/usr/lib/python3.6/http/client.py\u001b[0m in \u001b[0;36m_safe_read\u001b[0;34m(self, amt)\u001b[0m\n\u001b[1;32m    620\u001b[0m         \u001b[0ms\u001b[0m \u001b[0;34m=\u001b[0m \u001b[0;34m[\u001b[0m\u001b[0;34m]\u001b[0m\u001b[0;34m\u001b[0m\u001b[0;34m\u001b[0m\u001b[0m\n\u001b[1;32m    621\u001b[0m         \u001b[0;32mwhile\u001b[0m \u001b[0mamt\u001b[0m \u001b[0;34m>\u001b[0m \u001b[0;36m0\u001b[0m\u001b[0;34m:\u001b[0m\u001b[0;34m\u001b[0m\u001b[0;34m\u001b[0m\u001b[0m\n\u001b[0;32m--> 622\u001b[0;31m             \u001b[0mchunk\u001b[0m \u001b[0;34m=\u001b[0m \u001b[0mself\u001b[0m\u001b[0;34m.\u001b[0m\u001b[0mfp\u001b[0m\u001b[0;34m.\u001b[0m\u001b[0mread\u001b[0m\u001b[0;34m(\u001b[0m\u001b[0mmin\u001b[0m\u001b[0;34m(\u001b[0m\u001b[0mamt\u001b[0m\u001b[0;34m,\u001b[0m \u001b[0mMAXAMOUNT\u001b[0m\u001b[0;34m)\u001b[0m\u001b[0;34m)\u001b[0m\u001b[0;34m\u001b[0m\u001b[0;34m\u001b[0m\u001b[0m\n\u001b[0m\u001b[1;32m    623\u001b[0m             \u001b[0;32mif\u001b[0m \u001b[0;32mnot\u001b[0m \u001b[0mchunk\u001b[0m\u001b[0;34m:\u001b[0m\u001b[0;34m\u001b[0m\u001b[0;34m\u001b[0m\u001b[0m\n\u001b[1;32m    624\u001b[0m                 \u001b[0;32mraise\u001b[0m \u001b[0mIncompleteRead\u001b[0m\u001b[0;34m(\u001b[0m\u001b[0;34mb''\u001b[0m\u001b[0;34m.\u001b[0m\u001b[0mjoin\u001b[0m\u001b[0;34m(\u001b[0m\u001b[0ms\u001b[0m\u001b[0;34m)\u001b[0m\u001b[0;34m,\u001b[0m \u001b[0mamt\u001b[0m\u001b[0;34m)\u001b[0m\u001b[0;34m\u001b[0m\u001b[0;34m\u001b[0m\u001b[0m\n",
      "\u001b[0;32m/usr/lib/python3.6/socket.py\u001b[0m in \u001b[0;36mreadinto\u001b[0;34m(self, b)\u001b[0m\n\u001b[1;32m    584\u001b[0m         \u001b[0;32mwhile\u001b[0m \u001b[0;32mTrue\u001b[0m\u001b[0;34m:\u001b[0m\u001b[0;34m\u001b[0m\u001b[0;34m\u001b[0m\u001b[0m\n\u001b[1;32m    585\u001b[0m             \u001b[0;32mtry\u001b[0m\u001b[0;34m:\u001b[0m\u001b[0;34m\u001b[0m\u001b[0;34m\u001b[0m\u001b[0m\n\u001b[0;32m--> 586\u001b[0;31m                 \u001b[0;32mreturn\u001b[0m \u001b[0mself\u001b[0m\u001b[0;34m.\u001b[0m\u001b[0m_sock\u001b[0m\u001b[0;34m.\u001b[0m\u001b[0mrecv_into\u001b[0m\u001b[0;34m(\u001b[0m\u001b[0mb\u001b[0m\u001b[0;34m)\u001b[0m\u001b[0;34m\u001b[0m\u001b[0;34m\u001b[0m\u001b[0m\n\u001b[0m\u001b[1;32m    587\u001b[0m             \u001b[0;32mexcept\u001b[0m \u001b[0mtimeout\u001b[0m\u001b[0;34m:\u001b[0m\u001b[0;34m\u001b[0m\u001b[0;34m\u001b[0m\u001b[0m\n\u001b[1;32m    588\u001b[0m                 \u001b[0mself\u001b[0m\u001b[0;34m.\u001b[0m\u001b[0m_timeout_occurred\u001b[0m \u001b[0;34m=\u001b[0m \u001b[0;32mTrue\u001b[0m\u001b[0;34m\u001b[0m\u001b[0;34m\u001b[0m\u001b[0m\n",
      "\u001b[0;32m/usr/lib/python3.6/ssl.py\u001b[0m in \u001b[0;36mrecv_into\u001b[0;34m(self, buffer, nbytes, flags)\u001b[0m\n\u001b[1;32m   1010\u001b[0m                   \u001b[0;34m\"non-zero flags not allowed in calls to recv_into() on %s\"\u001b[0m \u001b[0;34m%\u001b[0m\u001b[0;34m\u001b[0m\u001b[0;34m\u001b[0m\u001b[0m\n\u001b[1;32m   1011\u001b[0m                   self.__class__)\n\u001b[0;32m-> 1012\u001b[0;31m             \u001b[0;32mreturn\u001b[0m \u001b[0mself\u001b[0m\u001b[0;34m.\u001b[0m\u001b[0mread\u001b[0m\u001b[0;34m(\u001b[0m\u001b[0mnbytes\u001b[0m\u001b[0;34m,\u001b[0m \u001b[0mbuffer\u001b[0m\u001b[0;34m)\u001b[0m\u001b[0;34m\u001b[0m\u001b[0;34m\u001b[0m\u001b[0m\n\u001b[0m\u001b[1;32m   1013\u001b[0m         \u001b[0;32melse\u001b[0m\u001b[0;34m:\u001b[0m\u001b[0;34m\u001b[0m\u001b[0;34m\u001b[0m\u001b[0m\n\u001b[1;32m   1014\u001b[0m             \u001b[0;32mreturn\u001b[0m \u001b[0msocket\u001b[0m\u001b[0;34m.\u001b[0m\u001b[0mrecv_into\u001b[0m\u001b[0;34m(\u001b[0m\u001b[0mself\u001b[0m\u001b[0;34m,\u001b[0m \u001b[0mbuffer\u001b[0m\u001b[0;34m,\u001b[0m \u001b[0mnbytes\u001b[0m\u001b[0;34m,\u001b[0m \u001b[0mflags\u001b[0m\u001b[0;34m)\u001b[0m\u001b[0;34m\u001b[0m\u001b[0;34m\u001b[0m\u001b[0m\n",
      "\u001b[0;32m/usr/lib/python3.6/ssl.py\u001b[0m in \u001b[0;36mread\u001b[0;34m(self, len, buffer)\u001b[0m\n\u001b[1;32m    872\u001b[0m             \u001b[0;32mraise\u001b[0m \u001b[0mValueError\u001b[0m\u001b[0;34m(\u001b[0m\u001b[0;34m\"Read on closed or unwrapped SSL socket.\"\u001b[0m\u001b[0;34m)\u001b[0m\u001b[0;34m\u001b[0m\u001b[0;34m\u001b[0m\u001b[0m\n\u001b[1;32m    873\u001b[0m         \u001b[0;32mtry\u001b[0m\u001b[0;34m:\u001b[0m\u001b[0;34m\u001b[0m\u001b[0;34m\u001b[0m\u001b[0m\n\u001b[0;32m--> 874\u001b[0;31m             \u001b[0;32mreturn\u001b[0m \u001b[0mself\u001b[0m\u001b[0;34m.\u001b[0m\u001b[0m_sslobj\u001b[0m\u001b[0;34m.\u001b[0m\u001b[0mread\u001b[0m\u001b[0;34m(\u001b[0m\u001b[0mlen\u001b[0m\u001b[0;34m,\u001b[0m \u001b[0mbuffer\u001b[0m\u001b[0;34m)\u001b[0m\u001b[0;34m\u001b[0m\u001b[0;34m\u001b[0m\u001b[0m\n\u001b[0m\u001b[1;32m    875\u001b[0m         \u001b[0;32mexcept\u001b[0m \u001b[0mSSLError\u001b[0m \u001b[0;32mas\u001b[0m \u001b[0mx\u001b[0m\u001b[0;34m:\u001b[0m\u001b[0;34m\u001b[0m\u001b[0;34m\u001b[0m\u001b[0m\n\u001b[1;32m    876\u001b[0m             \u001b[0;32mif\u001b[0m \u001b[0mx\u001b[0m\u001b[0;34m.\u001b[0m\u001b[0margs\u001b[0m\u001b[0;34m[\u001b[0m\u001b[0;36m0\u001b[0m\u001b[0;34m]\u001b[0m \u001b[0;34m==\u001b[0m \u001b[0mSSL_ERROR_EOF\u001b[0m \u001b[0;32mand\u001b[0m \u001b[0mself\u001b[0m\u001b[0;34m.\u001b[0m\u001b[0msuppress_ragged_eofs\u001b[0m\u001b[0;34m:\u001b[0m\u001b[0;34m\u001b[0m\u001b[0;34m\u001b[0m\u001b[0m\n",
      "\u001b[0;32m/usr/lib/python3.6/ssl.py\u001b[0m in \u001b[0;36mread\u001b[0;34m(self, len, buffer)\u001b[0m\n\u001b[1;32m    629\u001b[0m         \"\"\"\n\u001b[1;32m    630\u001b[0m         \u001b[0;32mif\u001b[0m \u001b[0mbuffer\u001b[0m \u001b[0;32mis\u001b[0m \u001b[0;32mnot\u001b[0m \u001b[0;32mNone\u001b[0m\u001b[0;34m:\u001b[0m\u001b[0;34m\u001b[0m\u001b[0;34m\u001b[0m\u001b[0m\n\u001b[0;32m--> 631\u001b[0;31m             \u001b[0mv\u001b[0m \u001b[0;34m=\u001b[0m \u001b[0mself\u001b[0m\u001b[0;34m.\u001b[0m\u001b[0m_sslobj\u001b[0m\u001b[0;34m.\u001b[0m\u001b[0mread\u001b[0m\u001b[0;34m(\u001b[0m\u001b[0mlen\u001b[0m\u001b[0;34m,\u001b[0m \u001b[0mbuffer\u001b[0m\u001b[0;34m)\u001b[0m\u001b[0;34m\u001b[0m\u001b[0;34m\u001b[0m\u001b[0m\n\u001b[0m\u001b[1;32m    632\u001b[0m         \u001b[0;32melse\u001b[0m\u001b[0;34m:\u001b[0m\u001b[0;34m\u001b[0m\u001b[0;34m\u001b[0m\u001b[0m\n\u001b[1;32m    633\u001b[0m             \u001b[0mv\u001b[0m \u001b[0;34m=\u001b[0m \u001b[0mself\u001b[0m\u001b[0;34m.\u001b[0m\u001b[0m_sslobj\u001b[0m\u001b[0;34m.\u001b[0m\u001b[0mread\u001b[0m\u001b[0;34m(\u001b[0m\u001b[0mlen\u001b[0m\u001b[0;34m)\u001b[0m\u001b[0;34m\u001b[0m\u001b[0;34m\u001b[0m\u001b[0m\n",
      "\u001b[0;31mKeyboardInterrupt\u001b[0m: "
     ]
    }
   ],
   "source": [
    "# SET UP CRAWLER\n",
    "#google_crawler = GoogleImageCrawler(storage={'root_dir': path_images})\n",
    "filters = dict(type='photo')\n",
    "for animal_ in sorted_x:\n",
    "    animal = animal_[0]\n",
    "    count = animals_count[animal]\n",
    "    download_count = max_count - count\n",
    "    print(animal, download_count)\n",
    "    response = google_images_download.googleimagesdownload()   #class instantiation\n",
    "    animal_search = animal + ' animal'\n",
    "    arguments = {\"keywords\":animal_search,\"limit\": download_count,\"print_urls\":True, \"output_directory\":path_images_google, 'chromedriver':'/usr/bin/chromedriver'}\n",
    "    paths = response.download(arguments)   #passing the arguments to the function\n",
    "    print(paths)\n",
    "    for path in paths[0][animal]:\n",
    "        print(path)"
   ]
  },
  {
   "cell_type": "code",
   "execution_count": null,
   "metadata": {},
   "outputs": [],
   "source": []
  },
  {
   "cell_type": "code",
   "execution_count": null,
   "metadata": {},
   "outputs": [],
   "source": []
  },
  {
   "cell_type": "code",
   "execution_count": null,
   "metadata": {},
   "outputs": [],
   "source": []
  },
  {
   "cell_type": "code",
   "execution_count": null,
   "metadata": {},
   "outputs": [],
   "source": []
  },
  {
   "cell_type": "code",
   "execution_count": null,
   "metadata": {},
   "outputs": [],
   "source": []
  },
  {
   "cell_type": "code",
   "execution_count": null,
   "metadata": {},
   "outputs": [],
   "source": []
  },
  {
   "cell_type": "code",
   "execution_count": null,
   "metadata": {},
   "outputs": [],
   "source": []
  },
  {
   "cell_type": "code",
   "execution_count": null,
   "metadata": {},
   "outputs": [],
   "source": []
  },
  {
   "cell_type": "code",
   "execution_count": null,
   "metadata": {},
   "outputs": [],
   "source": []
  },
  {
   "cell_type": "code",
   "execution_count": null,
   "metadata": {},
   "outputs": [],
   "source": []
  }
 ],
 "metadata": {
  "kernelspec": {
   "display_name": "Python 3",
   "language": "python",
   "name": "python3"
  },
  "language_info": {
   "codemirror_mode": {
    "name": "ipython",
    "version": 3
   },
   "file_extension": ".py",
   "mimetype": "text/x-python",
   "name": "python",
   "nbconvert_exporter": "python",
   "pygments_lexer": "ipython3",
   "version": "3.8.2"
  }
 },
 "nbformat": 4,
 "nbformat_minor": 4
}
